{
 "cells": [
  {
   "cell_type": "code",
   "execution_count": 2,
   "metadata": {},
   "outputs": [],
   "source": [
    "import numpy as np\n",
    "a=np.load('hide_and_seek_full.npz')"
   ]
  },
  {
   "cell_type": "code",
   "execution_count": 9,
   "metadata": {},
   "outputs": [
    {
     "name": "stdout",
     "output_type": "stream",
     "text": [
      "policy/normalize_self_obs/obsfilter/mean:0\n",
      "policy/normalize_self_obs/obsfilter/sq:0\n",
      "policy/normalize_self_obs/obsfilter/debiasing_term:0\n",
      "policy/normalize_agent_qpos_qvel/obsfilter/agent_qpos_qvel/mean:0\n",
      "policy/normalize_agent_qpos_qvel/obsfilter/agent_qpos_qvel/sq:0\n",
      "policy/normalize_agent_qpos_qvel/obsfilter/agent_qpos_qvel/debiasing_term:0\n",
      "policy/normalize_box_obs/obsfilter/box_obs/mean:0\n",
      "policy/normalize_box_obs/obsfilter/box_obs/sq:0\n",
      "policy/normalize_box_obs/obsfilter/box_obs/debiasing_term:0\n",
      "policy/normalize_lidar/obsfilter/lidar/mean:0\n",
      "policy/normalize_lidar/obsfilter/lidar/sq:0\n",
      "policy/normalize_lidar/obsfilter/lidar/debiasing_term:0\n",
      "policy/normalize_ramp_obs/obsfilter/ramp_obs/mean:0\n",
      "policy/normalize_ramp_obs/obsfilter/ramp_obs/sq:0\n",
      "policy/normalize_ramp_obs/obsfilter/ramp_obs/debiasing_term:0\n",
      "policy/vpred_net//circ_conv1d0/conv1d/kernel:0\n",
      "policy/vpred_net//circ_conv1d0/conv1d/bias:0\n",
      "policy/vpred_net//dense6-0/kernel:0\n",
      "policy/vpred_net//dense6-0/bias:0\n",
      "policy/vpred_net//dense6-1/kernel:0\n",
      "policy/vpred_net//dense6-1/bias:0\n",
      "policy/vpred_net//dense6-2/kernel:0\n",
      "policy/vpred_net//dense6-2/bias:0\n",
      "policy/vpred_net//dense6-3/kernel:0\n",
      "policy/vpred_net//dense6-3/bias:0\n",
      "policy/vpred_net//self-attention8/residual_sa_block8/self_attention/qkv_embed/pre_sa_layer_norm/LayerNorm/beta:0\n",
      "policy/vpred_net//self-attention8/residual_sa_block8/self_attention/qkv_embed/pre_sa_layer_norm/LayerNorm/gamma:0\n",
      "policy/vpred_net//self-attention8/residual_sa_block8/self_attention/qkv_embed/qk_embed/kernel:0\n",
      "policy/vpred_net//self-attention8/residual_sa_block8/self_attention/qkv_embed/qk_embed/bias:0\n",
      "policy/vpred_net//self-attention8/residual_sa_block8/self_attention/qkv_embed/v_embed/kernel:0\n",
      "policy/vpred_net//self-attention8/residual_sa_block8/self_attention/qkv_embed/v_embed/bias:0\n",
      "policy/vpred_net//self-attention8/residual_sa_block8/mlp1/kernel:0\n",
      "policy/vpred_net//self-attention8/residual_sa_block8/mlp1/bias:0\n",
      "policy/vpred_net//self-attention8/residual_sa_block8/post_a_layernorm/LayerNorm/beta:0\n",
      "policy/vpred_net//self-attention8/residual_sa_block8/post_a_layernorm/LayerNorm/gamma:0\n",
      "policy/vpred_net//layernorm11/LayerNorm/beta:0\n",
      "policy/vpred_net//layernorm11/LayerNorm/gamma:0\n",
      "policy/vpred_net//dense12-0/kernel:0\n",
      "policy/vpred_net//dense12-0/bias:0\n",
      "policy/vpred_net//layernorm13/LayerNorm/beta:0\n",
      "policy/vpred_net//layernorm13/LayerNorm/gamma:0\n",
      "policy/vpred_net//lstm14/rnn/basic_lstm_cell/kernel:0\n",
      "policy/vpred_net//lstm14/rnn/basic_lstm_cell/bias:0\n",
      "policy/vpred_net//layernorm15/LayerNorm/beta:0\n",
      "policy/vpred_net//layernorm15/LayerNorm/gamma:0\n",
      "policy/vpred_out0/dense/kernel:0\n",
      "policy/vpred_out0/dense/bias:0\n",
      "policy/vpred_out0/value0filter/mean:0\n",
      "policy/vpred_out0/value0filter/sq:0\n",
      "policy/vpred_out0/value0filter/debiasing_term:0\n",
      "policy/policy_net//circ_conv1d0/conv1d/kernel:0\n",
      "policy/policy_net//circ_conv1d0/conv1d/bias:0\n",
      "policy/policy_net//dense6-0/kernel:0\n",
      "policy/policy_net//dense6-0/bias:0\n",
      "policy/policy_net//dense6-1/kernel:0\n",
      "policy/policy_net//dense6-1/bias:0\n",
      "policy/policy_net//dense6-2/kernel:0\n",
      "policy/policy_net//dense6-2/bias:0\n",
      "policy/policy_net//dense6-3/kernel:0\n",
      "policy/policy_net//dense6-3/bias:0\n",
      "policy/policy_net//self-attention8/residual_sa_block8/self_attention/qkv_embed/pre_sa_layer_norm/LayerNorm/beta:0\n",
      "policy/policy_net//self-attention8/residual_sa_block8/self_attention/qkv_embed/pre_sa_layer_norm/LayerNorm/gamma:0\n",
      "policy/policy_net//self-attention8/residual_sa_block8/self_attention/qkv_embed/qk_embed/kernel:0\n",
      "policy/policy_net//self-attention8/residual_sa_block8/self_attention/qkv_embed/qk_embed/bias:0\n",
      "policy/policy_net//self-attention8/residual_sa_block8/self_attention/qkv_embed/v_embed/kernel:0\n",
      "policy/policy_net//self-attention8/residual_sa_block8/self_attention/qkv_embed/v_embed/bias:0\n",
      "policy/policy_net//self-attention8/residual_sa_block8/mlp1/kernel:0\n",
      "policy/policy_net//self-attention8/residual_sa_block8/mlp1/bias:0\n",
      "policy/policy_net//self-attention8/residual_sa_block8/post_a_layernorm/LayerNorm/beta:0\n",
      "policy/policy_net//self-attention8/residual_sa_block8/post_a_layernorm/LayerNorm/gamma:0\n",
      "policy/policy_net//layernorm11/LayerNorm/beta:0\n",
      "policy/policy_net//layernorm11/LayerNorm/gamma:0\n",
      "policy/policy_net//dense12-0/kernel:0\n",
      "policy/policy_net//dense12-0/bias:0\n",
      "policy/policy_net//layernorm13/LayerNorm/beta:0\n",
      "policy/policy_net//layernorm13/LayerNorm/gamma:0\n",
      "policy/policy_net//lstm14/rnn/basic_lstm_cell/kernel:0\n",
      "policy/policy_net//lstm14/rnn/basic_lstm_cell/bias:0\n",
      "policy/policy_net//layernorm15/LayerNorm/beta:0\n",
      "policy/policy_net//layernorm15/LayerNorm/gamma:0\n",
      "policy/policy_out/action_movement/dense/kernel:0\n",
      "policy/policy_out/action_movement/dense/bias:0\n",
      "policy/policy_out/action_pull/dense/kernel:0\n",
      "policy/policy_out/action_pull/dense/bias:0\n",
      "policy/policy_out/action_glueall/dense/kernel:0\n",
      "policy/policy_out/action_glueall/dense/bias:0\n",
      "policy_fn_and_args\n",
      "version\n"
     ]
    },
    {
     "name": "stderr",
     "output_type": "stream",
     "text": [
      "/Users/chengshi/anaconda3/envs/tf/lib/python3.6/site-packages/ipykernel_launcher.py:1: DeprecationWarning: NpzFile.iterkeys is deprecated in python 3, to match the removal of dict.iterkeys. Use .keys() instead.\n",
      "  \"\"\"Entry point for launching an IPython kernel.\n"
     ]
    }
   ],
   "source": [
    "for k in a.iterkeys():\n",
    "    print (k)"
   ]
  },
  {
   "cell_type": "code",
   "execution_count": null,
   "metadata": {},
   "outputs": [],
   "source": []
  }
 ],
 "metadata": {
  "kernelspec": {
   "display_name": "tf",
   "language": "python",
   "name": "tf"
  },
  "language_info": {
   "codemirror_mode": {
    "name": "ipython",
    "version": 3
   },
   "file_extension": ".py",
   "mimetype": "text/x-python",
   "name": "python",
   "nbconvert_exporter": "python",
   "pygments_lexer": "ipython3",
   "version": "3.6.9"
  }
 },
 "nbformat": 4,
 "nbformat_minor": 2
}
