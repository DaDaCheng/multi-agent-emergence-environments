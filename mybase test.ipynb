{
 "cells": [
  {
   "cell_type": "code",
   "execution_count": 4,
   "metadata": {},
   "outputs": [
    {
     "data": {
      "text/plain": [
       "{'observation_self': array([[3.30057456, 5.54999986, 0.        , 0.        , 0.        ,\n",
       "         0.        , 0.        , 0.        ],\n",
       "        [5.32122007, 2.84893804, 0.        , 0.        , 0.        ,\n",
       "         0.        , 0.        , 0.        ]]),\n",
       " 'agent_qpos_qvel': array([[[5.32122007, 2.84893804, 0.        , 0.        , 0.        ,\n",
       "          0.        , 0.        , 0.        ]],\n",
       " \n",
       "        [[3.30057456, 5.54999986, 0.        , 0.        , 0.        ,\n",
       "          0.        , 0.        , 0.        ]]]),\n",
       " 'mask_aa_obs': array([[ True],\n",
       "        [False]])}"
      ]
     },
     "execution_count": 4,
     "metadata": {},
     "output_type": "execute_result"
    }
   ],
   "source": [
    "#!/usr/bin/env python3\n",
    "import logging\n",
    "import click\n",
    "import numpy as np\n",
    "from os.path import abspath, dirname, join\n",
    "from gym.spaces import Tuple\n",
    "\n",
    "from mae_envs.viewer.env_viewer import EnvViewer\n",
    "from mae_envs.wrappers.multi_agent import JoinMultiAgentActions\n",
    "from mujoco_worldgen.util.envs import examine_env, load_env\n",
    "from mujoco_worldgen.util.types import extract_matching_arguments\n",
    "from mujoco_worldgen.util.parse_arguments import parse_arguments\n",
    "from runpy import run_path\n",
    "\n",
    "env_viewer=EnvViewer\n",
    "\n",
    "logger = logging.getLogger(__name__)\n",
    "\n",
    "env_name='mae_envs/envs/mybase.py'\n",
    "\n",
    "kwargs={}\n",
    "core_dir='/Users/chengshi/Desktop/RL/multi-agent-emergence-environments'\n",
    "envs_dir='mae_envs/envs'\n",
    "\n",
    "xmls_dir='xmls'\n",
    "module = run_path(env_name)\n",
    "make_env = module[\"make_env\"]\n",
    "args_to_pass, args_remaining = extract_matching_arguments(make_env, kwargs)\n",
    "env= make_env()\n",
    "env.reset()"
   ]
  },
  {
   "cell_type": "code",
   "execution_count": 4,
   "metadata": {},
   "outputs": [
    {
     "data": {
      "text/plain": [
       "<bound method Dict.sample of Dict(agent_qpos_qvel:Box(1, 10), box_obs:Box(2, 12), mask_aa_obs:Box(1,), mask_ab_obs:Box(2,), mask_ab_obs_spoof:Box(2,), mask_ar_obs:Box(1,), observation_self:Box(10,), ramp_obs:Box(1, 12))>"
      ]
     },
     "execution_count": 4,
     "metadata": {},
     "output_type": "execute_result"
    }
   ],
   "source": [
    "env.observation_space.sample"
   ]
  },
  {
   "cell_type": "code",
   "execution_count": 3,
   "metadata": {},
   "outputs": [
    {
     "data": {
      "text/plain": [
       "OrderedDict([('action_movement',\n",
       "              (array([6, 7, 6], dtype=int8), array([5, 4, 7], dtype=int8)))])"
      ]
     },
     "execution_count": 3,
     "metadata": {},
     "output_type": "execute_result"
    }
   ],
   "source": [
    "env.action_space.sample()"
   ]
  },
  {
   "cell_type": "code",
   "execution_count": 5,
   "metadata": {},
   "outputs": [],
   "source": [
    "a={'action_movement':np.array([[5, 5, 5],[5, 5, 5]])}"
   ]
  },
  {
   "cell_type": "code",
   "execution_count": 6,
   "metadata": {
    "scrolled": true
   },
   "outputs": [
    {
     "data": {
      "text/plain": [
       "({'observation_self': array([[ 3.30057456e+00,  5.54999986e+00, -4.86854345e-04,\n",
       "           0.00000000e+00,  0.00000000e+00,  0.00000000e+00,\n",
       "          -1.14253264e-03,  0.00000000e+00],\n",
       "         [ 5.32122007e+00,  2.84893804e+00, -4.86854345e-04,\n",
       "           0.00000000e+00,  0.00000000e+00,  0.00000000e+00,\n",
       "          -1.14253264e-03,  0.00000000e+00]]),\n",
       "  'agent_qpos_qvel': array([[[ 5.32122007e+00,  2.84893804e+00, -4.86854345e-04,\n",
       "            0.00000000e+00,  0.00000000e+00,  0.00000000e+00,\n",
       "           -1.14253264e-03,  0.00000000e+00]],\n",
       "  \n",
       "         [[ 3.30057456e+00,  5.54999986e+00, -4.86854345e-04,\n",
       "            0.00000000e+00,  0.00000000e+00,  0.00000000e+00,\n",
       "           -1.14253264e-03,  0.00000000e+00]]]),\n",
       "  'mask_aa_obs': array([[ True],\n",
       "         [False]])},\n",
       " 0.0,\n",
       " False,\n",
       " {'diverged': 0.0, 'discard_episode': False})"
      ]
     },
     "execution_count": 6,
     "metadata": {},
     "output_type": "execute_result"
    }
   ],
   "source": [
    "env.step(a)"
   ]
  },
  {
   "cell_type": "code",
   "execution_count": null,
   "metadata": {},
   "outputs": [
    {
     "name": "stdout",
     "output_type": "stream",
     "text": [
      "Creating window glfw\n",
      "{'observation_self': array([[ 1.83429452e-01,  5.54999999e+00, -4.86854345e-04,\n",
      "         0.00000000e+00,  0.00000000e+00,  0.00000000e+00,\n",
      "        -1.14253264e-03,  0.00000000e+00],\n",
      "       [ 4.29090362e+00,  6.99999991e-01, -4.86854345e-04,\n",
      "         0.00000000e+00,  0.00000000e+00,  0.00000000e+00,\n",
      "        -1.14253264e-03,  0.00000000e+00]]), 'agent_qpos_qvel': array([[[ 4.29090362e+00,  6.99999991e-01, -4.86854345e-04,\n",
      "          0.00000000e+00,  0.00000000e+00,  0.00000000e+00,\n",
      "         -1.14253264e-03,  0.00000000e+00]],\n",
      "\n",
      "       [[ 1.83429452e-01,  5.54999999e+00, -4.86854345e-04,\n",
      "          0.00000000e+00,  0.00000000e+00,  0.00000000e+00,\n",
      "         -1.14253264e-03,  0.00000000e+00]]]), 'mask_aa_obs': array([[False],\n",
      "       [False]])}\n"
     ]
    }
   ],
   "source": [
    "env_viewer(env).run()"
   ]
  },
  {
   "cell_type": "code",
   "execution_count": 5,
   "metadata": {},
   "outputs": [],
   "source": [
    "kwargs={\n",
    "        'n_agents': 2,\n",
    "        'n_boxes' : 2,\n",
    "        'n_hiders' : 1\n",
    "    }"
   ]
  },
  {
   "cell_type": "code",
   "execution_count": 6,
   "metadata": {},
   "outputs": [
    {
     "data": {
      "text/plain": [
       "{'n_agents': 2, 'n_boxes': 2, 'n_hiders': 1}"
      ]
     },
     "execution_count": 6,
     "metadata": {},
     "output_type": "execute_result"
    }
   ],
   "source": [
    "kwargs"
   ]
  },
  {
   "cell_type": "code",
   "execution_count": null,
   "metadata": {},
   "outputs": [],
   "source": []
  }
 ],
 "metadata": {
  "kernelspec": {
   "display_name": "tf",
   "language": "python",
   "name": "tf"
  },
  "language_info": {
   "codemirror_mode": {
    "name": "ipython",
    "version": 3
   },
   "file_extension": ".py",
   "mimetype": "text/x-python",
   "name": "python",
   "nbconvert_exporter": "python",
   "pygments_lexer": "ipython3",
   "version": "3.6.9"
  }
 },
 "nbformat": 4,
 "nbformat_minor": 2
}
